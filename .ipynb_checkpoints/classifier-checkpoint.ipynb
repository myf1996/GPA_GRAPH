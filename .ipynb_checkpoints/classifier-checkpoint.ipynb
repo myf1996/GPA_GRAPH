{
 "cells": [
  {
   "cell_type": "code",
   "execution_count": 1,
   "metadata": {
    "colab": {},
    "colab_type": "code",
    "id": "1hyEnEXQQO7w"
   },
   "outputs": [],
   "source": [
    "import pandas as pd\n",
    "import numpy as np\n",
    "from sklearn.ensemble import RandomForestClassifier\n",
    "from sklearn.model_selection import train_test_split\n",
    "from sklearn.linear_model import LogisticRegression\n",
    "from sklearn import svm\n",
    "from sklearn.naive_bayes import GaussianNB\n",
    "from sklearn.tree import DecisionTreeClassifier\n",
    "from sklearn import metrics\n",
    "from sklearn.linear_model import SGDClassifier\n",
    "from sklearn.ensemble import GradientBoostingClassifier\n",
    "from sklearn.linear_model import Lasso, LogisticRegression\n",
    "from sklearn.feature_selection import SelectFromModel\n",
    "from sklearn.preprocessing import StandardScaler"
   ]
  },
  {
   "cell_type": "code",
   "execution_count": 3,
   "metadata": {
    "colab": {},
    "colab_type": "code",
    "id": "cIasSvCoQO77"
   },
   "outputs": [],
   "source": [
    "df=pd.read_csv('/home/yassar/Desktop/za/final_version/datasets.csv')"
   ]
  },
  {
   "cell_type": "code",
   "execution_count": 4,
   "metadata": {
    "colab": {
     "base_uri": "https://localhost:8080/",
     "height": 456
    },
    "colab_type": "code",
    "executionInfo": {
     "elapsed": 1111,
     "status": "ok",
     "timestamp": 1586103586716,
     "user": {
      "displayName": "Tamjeed Anees",
      "photoUrl": "https://lh3.googleusercontent.com/a-/AOh14Gh95k3iDIGCAE5R6mGR6o2cTy-lXqLXC5tNjXhY3A=s64",
      "userId": "06579898575699157623"
     },
     "user_tz": -300
    },
    "id": "rxpWo4JHQO8C",
    "outputId": "937311ab-73c0-4b03-c015-57f4f0c8bf52"
   },
   "outputs": [
    {
     "data": {
      "text/html": [
       "<div>\n",
       "<style scoped>\n",
       "    .dataframe tbody tr th:only-of-type {\n",
       "        vertical-align: middle;\n",
       "    }\n",
       "\n",
       "    .dataframe tbody tr th {\n",
       "        vertical-align: top;\n",
       "    }\n",
       "\n",
       "    .dataframe thead th {\n",
       "        text-align: right;\n",
       "    }\n",
       "</style>\n",
       "<table border=\"1\" class=\"dataframe\">\n",
       "  <thead>\n",
       "    <tr style=\"text-align: right;\">\n",
       "      <th></th>\n",
       "      <th>Unnamed: 0</th>\n",
       "      <th>SEMESTER</th>\n",
       "      <th>AGE</th>\n",
       "      <th>GENDER</th>\n",
       "      <th>ADDRESS</th>\n",
       "      <th>FAMILY SIZE</th>\n",
       "      <th>PARENT STATUS</th>\n",
       "      <th>TRAVEL TIME</th>\n",
       "      <th>FAMILY SUPPORT</th>\n",
       "      <th>ACTIVITIES</th>\n",
       "      <th>LANGUAGES</th>\n",
       "      <th>INTERNET</th>\n",
       "      <th>FREETIME</th>\n",
       "      <th>HEALTH</th>\n",
       "      <th>NO OF ABSENCE</th>\n",
       "      <th>NO OF WITHDRAWL</th>\n",
       "      <th>CURRENT CGPA</th>\n",
       "      <th>STUDY TIME</th>\n",
       "      <th>STUDENT JOB</th>\n",
       "      <th>AVG GPA</th>\n",
       "    </tr>\n",
       "  </thead>\n",
       "  <tbody>\n",
       "    <tr>\n",
       "      <th>0</th>\n",
       "      <td>0</td>\n",
       "      <td>10.0</td>\n",
       "      <td>18.0</td>\n",
       "      <td>0.0</td>\n",
       "      <td>0.0</td>\n",
       "      <td>1.0</td>\n",
       "      <td>1.0</td>\n",
       "      <td>1.0</td>\n",
       "      <td>0.0</td>\n",
       "      <td>0.0</td>\n",
       "      <td>1.0</td>\n",
       "      <td>2.0</td>\n",
       "      <td>4.0</td>\n",
       "      <td>2.0</td>\n",
       "      <td>1.0</td>\n",
       "      <td>1.0</td>\n",
       "      <td>2.0</td>\n",
       "      <td>4.0</td>\n",
       "      <td>0.0</td>\n",
       "      <td>4.00</td>\n",
       "    </tr>\n",
       "    <tr>\n",
       "      <th>1</th>\n",
       "      <td>1</td>\n",
       "      <td>10.0</td>\n",
       "      <td>18.0</td>\n",
       "      <td>1.0</td>\n",
       "      <td>1.0</td>\n",
       "      <td>0.0</td>\n",
       "      <td>0.0</td>\n",
       "      <td>2.0</td>\n",
       "      <td>0.0</td>\n",
       "      <td>0.0</td>\n",
       "      <td>0.0</td>\n",
       "      <td>3.0</td>\n",
       "      <td>4.0</td>\n",
       "      <td>3.0</td>\n",
       "      <td>9.0</td>\n",
       "      <td>4.0</td>\n",
       "      <td>3.0</td>\n",
       "      <td>3.0</td>\n",
       "      <td>1.0</td>\n",
       "      <td>4.00</td>\n",
       "    </tr>\n",
       "    <tr>\n",
       "      <th>2</th>\n",
       "      <td>2</td>\n",
       "      <td>5.0</td>\n",
       "      <td>23.0</td>\n",
       "      <td>1.0</td>\n",
       "      <td>1.0</td>\n",
       "      <td>1.0</td>\n",
       "      <td>1.0</td>\n",
       "      <td>2.0</td>\n",
       "      <td>1.0</td>\n",
       "      <td>1.0</td>\n",
       "      <td>1.0</td>\n",
       "      <td>5.0</td>\n",
       "      <td>1.0</td>\n",
       "      <td>5.0</td>\n",
       "      <td>2.0</td>\n",
       "      <td>2.0</td>\n",
       "      <td>2.0</td>\n",
       "      <td>2.0</td>\n",
       "      <td>1.0</td>\n",
       "      <td>1.67</td>\n",
       "    </tr>\n",
       "    <tr>\n",
       "      <th>3</th>\n",
       "      <td>3</td>\n",
       "      <td>5.0</td>\n",
       "      <td>20.0</td>\n",
       "      <td>1.0</td>\n",
       "      <td>1.0</td>\n",
       "      <td>0.0</td>\n",
       "      <td>0.0</td>\n",
       "      <td>3.0</td>\n",
       "      <td>1.0</td>\n",
       "      <td>1.0</td>\n",
       "      <td>0.0</td>\n",
       "      <td>5.0</td>\n",
       "      <td>5.0</td>\n",
       "      <td>1.0</td>\n",
       "      <td>4.0</td>\n",
       "      <td>2.0</td>\n",
       "      <td>5.0</td>\n",
       "      <td>3.0</td>\n",
       "      <td>0.0</td>\n",
       "      <td>3.67</td>\n",
       "    </tr>\n",
       "    <tr>\n",
       "      <th>4</th>\n",
       "      <td>4</td>\n",
       "      <td>6.0</td>\n",
       "      <td>23.0</td>\n",
       "      <td>0.0</td>\n",
       "      <td>0.0</td>\n",
       "      <td>0.0</td>\n",
       "      <td>1.0</td>\n",
       "      <td>1.0</td>\n",
       "      <td>1.0</td>\n",
       "      <td>0.0</td>\n",
       "      <td>0.0</td>\n",
       "      <td>4.0</td>\n",
       "      <td>1.0</td>\n",
       "      <td>3.0</td>\n",
       "      <td>5.0</td>\n",
       "      <td>2.0</td>\n",
       "      <td>2.0</td>\n",
       "      <td>5.0</td>\n",
       "      <td>0.0</td>\n",
       "      <td>3.33</td>\n",
       "    </tr>\n",
       "    <tr>\n",
       "      <th>...</th>\n",
       "      <td>...</td>\n",
       "      <td>...</td>\n",
       "      <td>...</td>\n",
       "      <td>...</td>\n",
       "      <td>...</td>\n",
       "      <td>...</td>\n",
       "      <td>...</td>\n",
       "      <td>...</td>\n",
       "      <td>...</td>\n",
       "      <td>...</td>\n",
       "      <td>...</td>\n",
       "      <td>...</td>\n",
       "      <td>...</td>\n",
       "      <td>...</td>\n",
       "      <td>...</td>\n",
       "      <td>...</td>\n",
       "      <td>...</td>\n",
       "      <td>...</td>\n",
       "      <td>...</td>\n",
       "      <td>...</td>\n",
       "    </tr>\n",
       "    <tr>\n",
       "      <th>30256</th>\n",
       "      <td>30256</td>\n",
       "      <td>10.0</td>\n",
       "      <td>24.0</td>\n",
       "      <td>0.0</td>\n",
       "      <td>1.0</td>\n",
       "      <td>1.0</td>\n",
       "      <td>0.0</td>\n",
       "      <td>2.0</td>\n",
       "      <td>0.0</td>\n",
       "      <td>0.0</td>\n",
       "      <td>0.0</td>\n",
       "      <td>5.0</td>\n",
       "      <td>1.0</td>\n",
       "      <td>5.0</td>\n",
       "      <td>8.0</td>\n",
       "      <td>5.0</td>\n",
       "      <td>1.0</td>\n",
       "      <td>4.0</td>\n",
       "      <td>1.0</td>\n",
       "      <td>2.33</td>\n",
       "    </tr>\n",
       "    <tr>\n",
       "      <th>30257</th>\n",
       "      <td>30257</td>\n",
       "      <td>1.0</td>\n",
       "      <td>21.0</td>\n",
       "      <td>0.0</td>\n",
       "      <td>0.0</td>\n",
       "      <td>0.0</td>\n",
       "      <td>1.0</td>\n",
       "      <td>4.0</td>\n",
       "      <td>1.0</td>\n",
       "      <td>1.0</td>\n",
       "      <td>0.0</td>\n",
       "      <td>4.0</td>\n",
       "      <td>5.0</td>\n",
       "      <td>5.0</td>\n",
       "      <td>9.0</td>\n",
       "      <td>1.0</td>\n",
       "      <td>4.0</td>\n",
       "      <td>4.0</td>\n",
       "      <td>0.0</td>\n",
       "      <td>2.00</td>\n",
       "    </tr>\n",
       "    <tr>\n",
       "      <th>30258</th>\n",
       "      <td>30258</td>\n",
       "      <td>9.0</td>\n",
       "      <td>22.0</td>\n",
       "      <td>0.0</td>\n",
       "      <td>0.0</td>\n",
       "      <td>0.0</td>\n",
       "      <td>0.0</td>\n",
       "      <td>4.0</td>\n",
       "      <td>1.0</td>\n",
       "      <td>1.0</td>\n",
       "      <td>1.0</td>\n",
       "      <td>1.0</td>\n",
       "      <td>4.0</td>\n",
       "      <td>3.0</td>\n",
       "      <td>1.0</td>\n",
       "      <td>5.0</td>\n",
       "      <td>1.0</td>\n",
       "      <td>3.0</td>\n",
       "      <td>1.0</td>\n",
       "      <td>2.33</td>\n",
       "    </tr>\n",
       "    <tr>\n",
       "      <th>30259</th>\n",
       "      <td>30259</td>\n",
       "      <td>5.0</td>\n",
       "      <td>21.0</td>\n",
       "      <td>0.0</td>\n",
       "      <td>0.0</td>\n",
       "      <td>1.0</td>\n",
       "      <td>0.0</td>\n",
       "      <td>2.0</td>\n",
       "      <td>0.0</td>\n",
       "      <td>0.0</td>\n",
       "      <td>0.0</td>\n",
       "      <td>5.0</td>\n",
       "      <td>1.0</td>\n",
       "      <td>4.0</td>\n",
       "      <td>4.0</td>\n",
       "      <td>5.0</td>\n",
       "      <td>3.0</td>\n",
       "      <td>2.0</td>\n",
       "      <td>1.0</td>\n",
       "      <td>2.33</td>\n",
       "    </tr>\n",
       "    <tr>\n",
       "      <th>30260</th>\n",
       "      <td>30260</td>\n",
       "      <td>6.0</td>\n",
       "      <td>20.0</td>\n",
       "      <td>1.0</td>\n",
       "      <td>1.0</td>\n",
       "      <td>1.0</td>\n",
       "      <td>0.0</td>\n",
       "      <td>3.0</td>\n",
       "      <td>1.0</td>\n",
       "      <td>0.0</td>\n",
       "      <td>0.0</td>\n",
       "      <td>1.0</td>\n",
       "      <td>3.0</td>\n",
       "      <td>3.0</td>\n",
       "      <td>1.0</td>\n",
       "      <td>1.0</td>\n",
       "      <td>1.0</td>\n",
       "      <td>4.0</td>\n",
       "      <td>1.0</td>\n",
       "      <td>2.67</td>\n",
       "    </tr>\n",
       "  </tbody>\n",
       "</table>\n",
       "<p>30261 rows × 20 columns</p>\n",
       "</div>"
      ],
      "text/plain": [
       "       Unnamed: 0  SEMESTER   AGE  GENDER  ADDRESS  FAMILY SIZE  \\\n",
       "0               0      10.0  18.0     0.0      0.0          1.0   \n",
       "1               1      10.0  18.0     1.0      1.0          0.0   \n",
       "2               2       5.0  23.0     1.0      1.0          1.0   \n",
       "3               3       5.0  20.0     1.0      1.0          0.0   \n",
       "4               4       6.0  23.0     0.0      0.0          0.0   \n",
       "...           ...       ...   ...     ...      ...          ...   \n",
       "30256       30256      10.0  24.0     0.0      1.0          1.0   \n",
       "30257       30257       1.0  21.0     0.0      0.0          0.0   \n",
       "30258       30258       9.0  22.0     0.0      0.0          0.0   \n",
       "30259       30259       5.0  21.0     0.0      0.0          1.0   \n",
       "30260       30260       6.0  20.0     1.0      1.0          1.0   \n",
       "\n",
       "       PARENT STATUS  TRAVEL TIME  FAMILY SUPPORT  ACTIVITIES  LANGUAGES  \\\n",
       "0                1.0          1.0             0.0         0.0        1.0   \n",
       "1                0.0          2.0             0.0         0.0        0.0   \n",
       "2                1.0          2.0             1.0         1.0        1.0   \n",
       "3                0.0          3.0             1.0         1.0        0.0   \n",
       "4                1.0          1.0             1.0         0.0        0.0   \n",
       "...              ...          ...             ...         ...        ...   \n",
       "30256            0.0          2.0             0.0         0.0        0.0   \n",
       "30257            1.0          4.0             1.0         1.0        0.0   \n",
       "30258            0.0          4.0             1.0         1.0        1.0   \n",
       "30259            0.0          2.0             0.0         0.0        0.0   \n",
       "30260            0.0          3.0             1.0         0.0        0.0   \n",
       "\n",
       "       INTERNET  FREETIME  HEALTH  NO OF ABSENCE  NO OF WITHDRAWL  \\\n",
       "0           2.0       4.0     2.0            1.0              1.0   \n",
       "1           3.0       4.0     3.0            9.0              4.0   \n",
       "2           5.0       1.0     5.0            2.0              2.0   \n",
       "3           5.0       5.0     1.0            4.0              2.0   \n",
       "4           4.0       1.0     3.0            5.0              2.0   \n",
       "...         ...       ...     ...            ...              ...   \n",
       "30256       5.0       1.0     5.0            8.0              5.0   \n",
       "30257       4.0       5.0     5.0            9.0              1.0   \n",
       "30258       1.0       4.0     3.0            1.0              5.0   \n",
       "30259       5.0       1.0     4.0            4.0              5.0   \n",
       "30260       1.0       3.0     3.0            1.0              1.0   \n",
       "\n",
       "       CURRENT CGPA  STUDY TIME  STUDENT JOB  AVG GPA  \n",
       "0               2.0         4.0          0.0     4.00  \n",
       "1               3.0         3.0          1.0     4.00  \n",
       "2               2.0         2.0          1.0     1.67  \n",
       "3               5.0         3.0          0.0     3.67  \n",
       "4               2.0         5.0          0.0     3.33  \n",
       "...             ...         ...          ...      ...  \n",
       "30256           1.0         4.0          1.0     2.33  \n",
       "30257           4.0         4.0          0.0     2.00  \n",
       "30258           1.0         3.0          1.0     2.33  \n",
       "30259           3.0         2.0          1.0     2.33  \n",
       "30260           1.0         4.0          1.0     2.67  \n",
       "\n",
       "[30261 rows x 20 columns]"
      ]
     },
     "execution_count": 4,
     "metadata": {},
     "output_type": "execute_result"
    }
   ],
   "source": [
    "df=df.fillna(0)\n",
    "df"
   ]
  },
  {
   "cell_type": "code",
   "execution_count": 5,
   "metadata": {
    "colab": {},
    "colab_type": "code",
    "id": "ydMpvV7_QO8O"
   },
   "outputs": [],
   "source": [
    "x = df.drop(['AVG GPA'], axis = 1)\n",
    "y = df['AVG GPA']"
   ]
  },
  {
   "cell_type": "code",
   "execution_count": 6,
   "metadata": {
    "colab": {},
    "colab_type": "code",
    "id": "d3JonLEiR_1o"
   },
   "outputs": [],
   "source": [
    "y = df['AVG GPA'] > 2 # Return True if GPA greater than 2 else return False"
   ]
  },
  {
   "cell_type": "code",
   "execution_count": 13,
   "metadata": {
    "colab": {},
    "colab_type": "code",
    "id": "-NU_dgHEIdGy"
   },
   "outputs": [],
   "source": [
    "#Recursive Feature Elimination\n",
    "x=df[['SEMESTER','AGE','ADDRESS','FAMILY SIZE','HEALTH','FAMILY SUPPORT','STUDY TIME','NO OF WITHDRAWL']]"
   ]
  },
  {
   "cell_type": "code",
   "execution_count": 8,
   "metadata": {
    "colab": {},
    "colab_type": "code",
    "id": "lsp3leLNIfF_"
   },
   "outputs": [],
   "source": [
    "#Chi-Squared\n",
    "x=df[['SEMESTER','ADDRESS','FAMILY SIZE','HEALTH','FAMILY SUPPORT','STUDY TIME','NO OF WITHDRAWL']]"
   ]
  },
  {
   "cell_type": "code",
   "execution_count": 9,
   "metadata": {
    "colab": {},
    "colab_type": "code",
    "id": "9FtWDmS-Ihfl"
   },
   "outputs": [],
   "source": [
    "#Pearson Correlation\n",
    "x=df[['SEMESTER','AGE','ADDRESS','FAMILY SIZE','FAMILY SUPPORT','STUDY TIME','NO OF WITHDRAWL']]"
   ]
  },
  {
   "cell_type": "code",
   "execution_count": 10,
   "metadata": {
    "colab": {},
    "colab_type": "code",
    "id": "Jcd_O1sTIjA6"
   },
   "outputs": [],
   "source": [
    "#lasso: SelectFromModel l2\n",
    "x=df[['AGE','FAMILY SIZE','FAMILY SUPPORT','STUDY TIME','NO OF WITHDRAWL']]"
   ]
  },
  {
   "cell_type": "code",
   "execution_count": 11,
   "metadata": {
    "colab": {},
    "colab_type": "code",
    "id": "4JwFBDbaIlRO"
   },
   "outputs": [],
   "source": [
    "#tree-based: SelectFromModel\n",
    "x=df[['SEMESTER','AGE','INTERNET','FREETIME','HEALTH','NO OF ABSENCE','NO OF WITHDRAWL','CURRENT CGPA']]"
   ]
  },
  {
   "cell_type": "code",
   "execution_count": 12,
   "metadata": {
    "colab": {},
    "colab_type": "code",
    "id": "9i64eKt1QO9n"
   },
   "outputs": [],
   "source": [
    "#lightGBM\n",
    "x=df[['SEMESTER','AGE','TRAVEL TIME','INTERNET','HEALTH','NO OF ABSENCE','NO OF WITHDRAWL','CURRENT CGPA']]"
   ]
  },
  {
   "cell_type": "code",
   "execution_count": 14,
   "metadata": {
    "colab": {},
    "colab_type": "code",
    "id": "55NCdksLQO-E"
   },
   "outputs": [],
   "source": [
    "myData=[[8.0,22.0,2.0,3.0,2.0,3.0,0.0,3.2]]"
   ]
  },
  {
   "cell_type": "markdown",
   "metadata": {
    "colab_type": "text",
    "id": "MTit5zJQQO-H"
   },
   "source": [
    "# Logistic Regression"
   ]
  },
  {
   "cell_type": "code",
   "execution_count": 35,
   "metadata": {
    "colab": {
     "base_uri": "https://localhost:8080/",
     "height": 51
    },
    "colab_type": "code",
    "executionInfo": {
     "elapsed": 1140,
     "status": "ok",
     "timestamp": 1586103753134,
     "user": {
      "displayName": "Tamjeed Anees",
      "photoUrl": "https://lh3.googleusercontent.com/a-/AOh14Gh95k3iDIGCAE5R6mGR6o2cTy-lXqLXC5tNjXhY3A=s64",
      "userId": "06579898575699157623"
     },
     "user_tz": -300
    },
    "id": "kwQYCFNcQO-I",
    "outputId": "58a870f5-c4af-4f36-f9d4-6b40e5c4c9cd"
   },
   "outputs": [
    {
     "name": "stdout",
     "output_type": "stream",
     "text": [
      "[ True  True  True ...  True  True  True]\n",
      "Accuracy: 0.8038988931108542\n"
     ]
    }
   ],
   "source": [
    "x_train, x_test, y_train, y_test = train_test_split(x, y, test_size=0.2, random_state=20)\n",
    "logmodel = LogisticRegression()\n",
    "logmodel.fit(x_train, y_train)\n",
    "\n",
    "predictions = logmodel.predict(x_test)\n",
    "print(predictions)\n",
    "print('Accuracy: {}'.format(metrics.accuracy_score(y_test, predictions)))"
   ]
  },
  {
   "cell_type": "code",
   "execution_count": 25,
   "metadata": {},
   "outputs": [
    {
     "data": {
      "text/plain": [
       "array([[   0, 1187],\n",
       "       [   0, 4866]])"
      ]
     },
     "execution_count": 25,
     "metadata": {},
     "output_type": "execute_result"
    }
   ],
   "source": [
    "from sklearn import metrics\n",
    "cnf_matrix = metrics.confusion_matrix(y_test, predictions)\n",
    "cnf_matrix"
   ]
  },
  {
   "cell_type": "code",
   "execution_count": 26,
   "metadata": {},
   "outputs": [],
   "source": [
    "import numpy as np\n",
    "import matplotlib.pyplot as plt\n",
    "import seaborn as sns"
   ]
  },
  {
   "cell_type": "code",
   "execution_count": 27,
   "metadata": {},
   "outputs": [
    {
     "data": {
      "text/plain": [
       "Text(0.5, 257.44, 'Predicted label')"
      ]
     },
     "execution_count": 27,
     "metadata": {},
     "output_type": "execute_result"
    },
    {
     "data": {
      "image/png": "[encoded data removed]",
      "text/plain": [
       "<Figure size 432x288 with 2 Axes>"
      ]
     },
     "metadata": {
      "needs_background": "light"
     },
     "output_type": "display_data"
    }
   ],
   "source": [
    "class_names=[0,1] # name  of classes\n",
    "fig, ax = plt.subplots()\n",
    "tick_marks = np.arange(len(class_names))\n",
    "plt.xticks(tick_marks, class_names)\n",
    "plt.yticks(tick_marks, class_names)\n",
    "# create heatmap\n",
    "sns.heatmap(pd.DataFrame(cnf_matrix), annot=True, cmap=\"YlGnBu\" ,fmt='g')\n",
    "ax.xaxis.set_label_position(\"top\")\n",
    "plt.tight_layout()\n",
    "plt.title('Confusion matrix', y=1.1)\n",
    "plt.ylabel('Actual label')\n",
    "plt.xlabel('Predicted label')"
   ]
  },
  {
   "cell_type": "code",
   "execution_count": 40,
   "metadata": {},
   "outputs": [
    {
     "data": {
      "image/png": "[encoded data removed]",
      "text/plain": [
       "<Figure size 432x288 with 1 Axes>"
      ]
     },
     "metadata": {
      "needs_background": "light"
     },
     "output_type": "display_data"
    }
   ],
   "source": [
    "#y_pred_proba = logmodel.predict(x_test)#[::,1]\n",
    "fpr, tpr, _ = metrics.roc_curve(y_test,  predictions)\n",
    "auc = metrics.roc_auc_score(y_test, predictions)\n",
    "plt.plot(fpr,tpr,label=\"data 1, res=\"+str(auc))\n",
    "plt.legend(loc=4)\n",
    "plt.show()"
   ]
  },
  {
   "cell_type": "code",
   "execution_count": null,
   "metadata": {},
   "outputs": [],
   "source": []
  },
  {
   "cell_type": "code",
   "execution_count": 16,
   "metadata": {
    "colab": {
     "base_uri": "https://localhost:8080/",
     "height": 34
    },
    "colab_type": "code",
    "executionInfo": {
     "elapsed": 1068,
     "status": "ok",
     "timestamp": 1586103766709,
     "user": {
      "displayName": "Tamjeed Anees",
      "photoUrl": "https://lh3.googleusercontent.com/a-/AOh14Gh95k3iDIGCAE5R6mGR6o2cTy-lXqLXC5tNjXhY3A=s64",
      "userId": "06579898575699157623"
     },
     "user_tz": -300
    },
    "id": "m2EJtlVUQO-N",
    "outputId": "d52e08a1-4b3e-4813-852a-c2d203abe7a2"
   },
   "outputs": [
    {
     "data": {
      "text/plain": [
       "array([ True])"
      ]
     },
     "execution_count": 16,
     "metadata": {},
     "output_type": "execute_result"
    }
   ],
   "source": [
    "prediction = logmodel.predict(myData)\n",
    "prediction"
   ]
  },
  {
   "cell_type": "code",
   "execution_count": null,
   "metadata": {},
   "outputs": [],
   "source": []
  },
  {
   "cell_type": "code",
   "execution_count": null,
   "metadata": {},
   "outputs": [],
   "source": []
  },
  {
   "cell_type": "code",
   "execution_count": null,
   "metadata": {},
   "outputs": [],
   "source": []
  },
  {
   "cell_type": "code",
   "execution_count": null,
   "metadata": {},
   "outputs": [],
   "source": []
  },
  {
   "cell_type": "markdown",
   "metadata": {
    "colab_type": "text",
    "id": "7em5QDQ0QO-T"
   },
   "source": [
    "# Support Vector Machine"
   ]
  },
  {
   "cell_type": "code",
   "execution_count": 14,
   "metadata": {
    "colab": {
     "base_uri": "https://localhost:8080/",
     "height": 51
    },
    "colab_type": "code",
    "executionInfo": {
     "elapsed": 19021,
     "status": "ok",
     "timestamp": 1586103874549,
     "user": {
      "displayName": "Tamjeed Anees",
      "photoUrl": "https://lh3.googleusercontent.com/a-/AOh14Gh95k3iDIGCAE5R6mGR6o2cTy-lXqLXC5tNjXhY3A=s64",
      "userId": "06579898575699157623"
     },
     "user_tz": -300
    },
    "id": "8GRtzJBlQO-U",
    "outputId": "9960c64e-b4a6-4cc9-81f9-d862dfa06f23"
   },
   "outputs": [
    {
     "name": "stdout",
     "output_type": "stream",
     "text": [
      "[ True  True  True ...  True  True  True]\n",
      "Accuracy: 0.8108376011894928\n"
     ]
    }
   ],
   "source": [
    "x_train, x_test, y_train, y_test = train_test_split(x, y, test_size=0.2,random_state=30)\n",
    "clf = svm.SVC()\n",
    "clf.fit(x_train, y_train)\n",
    "y_pred = clf.predict(x_test)\n",
    "print(y_pred)\n",
    "print(\"Accuracy:\",metrics.accuracy_score(y_test, y_pred))\n"
   ]
  },
  {
   "cell_type": "code",
   "execution_count": 15,
   "metadata": {
    "colab": {
     "base_uri": "https://localhost:8080/",
     "height": 34
    },
    "colab_type": "code",
    "executionInfo": {
     "elapsed": 970,
     "status": "ok",
     "timestamp": 1586103879749,
     "user": {
      "displayName": "Tamjeed Anees",
      "photoUrl": "https://lh3.googleusercontent.com/a-/AOh14Gh95k3iDIGCAE5R6mGR6o2cTy-lXqLXC5tNjXhY3A=s64",
      "userId": "06579898575699157623"
     },
     "user_tz": -300
    },
    "id": "xfPiwkHMQO-c",
    "outputId": "113e6c78-2a9b-4f68-88d1-a26776edf19a"
   },
   "outputs": [
    {
     "data": {
      "text/plain": [
       "array([ True])"
      ]
     },
     "execution_count": 15,
     "metadata": {
      "tags": []
     },
     "output_type": "execute_result"
    }
   ],
   "source": [
    "predictions = clf.predict(myData)\n",
    "predictions"
   ]
  },
  {
   "cell_type": "markdown",
   "metadata": {
    "colab_type": "text",
    "id": "n5Tvc0g8QO-g"
   },
   "source": [
    "# Decision Tree"
   ]
  },
  {
   "cell_type": "code",
   "execution_count": 20,
   "metadata": {
    "colab": {
     "base_uri": "https://localhost:8080/",
     "height": 51
    },
    "colab_type": "code",
    "executionInfo": {
     "elapsed": 1127,
     "status": "ok",
     "timestamp": 1586103971728,
     "user": {
      "displayName": "Tamjeed Anees",
      "photoUrl": "https://lh3.googleusercontent.com/a-/AOh14Gh95k3iDIGCAE5R6mGR6o2cTy-lXqLXC5tNjXhY3A=s64",
      "userId": "06579898575699157623"
     },
     "user_tz": -300
    },
    "id": "0j4BwHXJQO-h",
    "outputId": "4a6539cf-a4eb-498f-9fe5-15a34fbadcec"
   },
   "outputs": [
    {
     "name": "stdout",
     "output_type": "stream",
     "text": [
      "[ True  True False ...  True  True  True] PREDICTION\n",
      "0.6687592929126053 ACCURACY\n"
     ]
    }
   ],
   "source": [
    "var_train, var_test, res_train, res_test = train_test_split(x, y, test_size = 0.2,random_state=30)\n",
    "decision_tree = DecisionTreeClassifier()\n",
    "decision_tree = decision_tree.fit(var_train, res_train)\n",
    "res_pred = decision_tree.predict(var_test)\n",
    "score = metrics.accuracy_score(res_test, res_pred)\n",
    "print(res_pred,\"PREDICTION\")\n",
    "print(score,\"ACCURACY\")\n"
   ]
  },
  {
   "cell_type": "code",
   "execution_count": 21,
   "metadata": {
    "colab": {
     "base_uri": "https://localhost:8080/",
     "height": 34
    },
    "colab_type": "code",
    "executionInfo": {
     "elapsed": 1053,
     "status": "ok",
     "timestamp": 1586103980607,
     "user": {
      "displayName": "Tamjeed Anees",
      "photoUrl": "https://lh3.googleusercontent.com/a-/AOh14Gh95k3iDIGCAE5R6mGR6o2cTy-lXqLXC5tNjXhY3A=s64",
      "userId": "06579898575699157623"
     },
     "user_tz": -300
    },
    "id": "bNPjbL-DQO-l",
    "outputId": "6bff4cc9-3915-4019-be26-98be2edca45f"
   },
   "outputs": [
    {
     "data": {
      "text/plain": [
       "array([ True])"
      ]
     },
     "execution_count": 21,
     "metadata": {
      "tags": []
     },
     "output_type": "execute_result"
    }
   ],
   "source": [
    "predictions = decision_tree.predict(myData)\n",
    "predictions"
   ]
  },
  {
   "cell_type": "markdown",
   "metadata": {
    "colab_type": "text",
    "id": "aX3HD6CVQO-p"
   },
   "source": [
    "# Gaussian Naive Bayes"
   ]
  },
  {
   "cell_type": "code",
   "execution_count": 22,
   "metadata": {
    "colab": {
     "base_uri": "https://localhost:8080/",
     "height": 34
    },
    "colab_type": "code",
    "executionInfo": {
     "elapsed": 974,
     "status": "ok",
     "timestamp": 1586104009450,
     "user": {
      "displayName": "Tamjeed Anees",
      "photoUrl": "https://lh3.googleusercontent.com/a-/AOh14Gh95k3iDIGCAE5R6mGR6o2cTy-lXqLXC5tNjXhY3A=s64",
      "userId": "06579898575699157623"
     },
     "user_tz": -300
    },
    "id": "HX7Wl0tdQO-q",
    "outputId": "6e7841c0-131c-49dc-fb2b-6e1f1d143dca"
   },
   "outputs": [
    {
     "name": "stdout",
     "output_type": "stream",
     "text": [
      "Accuracy: 0.8108376011894928\n"
     ]
    }
   ],
   "source": [
    "x_train, x_test, y_train, y_test = train_test_split(x, y, test_size=0.2, random_state=30)\n",
    "gnb = GaussianNB()\n",
    "y_pred = gnb.fit(x_train, y_train).predict(x_test)\n",
    "print(\"Accuracy:\",metrics.accuracy_score(y_test, y_pred))"
   ]
  },
  {
   "cell_type": "code",
   "execution_count": 23,
   "metadata": {
    "colab": {
     "base_uri": "https://localhost:8080/",
     "height": 34
    },
    "colab_type": "code",
    "executionInfo": {
     "elapsed": 1122,
     "status": "ok",
     "timestamp": 1586104015398,
     "user": {
      "displayName": "Tamjeed Anees",
      "photoUrl": "https://lh3.googleusercontent.com/a-/AOh14Gh95k3iDIGCAE5R6mGR6o2cTy-lXqLXC5tNjXhY3A=s64",
      "userId": "06579898575699157623"
     },
     "user_tz": -300
    },
    "id": "3FLQMwAzQO-v",
    "outputId": "fa3ea22e-dd5d-413c-b591-4bf51f734dc8"
   },
   "outputs": [
    {
     "data": {
      "text/plain": [
       "array([ True])"
      ]
     },
     "execution_count": 23,
     "metadata": {
      "tags": []
     },
     "output_type": "execute_result"
    }
   ],
   "source": [
    "predictions = gnb.predict(myData)\n",
    "predictions"
   ]
  },
  {
   "cell_type": "markdown",
   "metadata": {
    "colab_type": "text",
    "id": "DHxc6Pa0QO-z"
   },
   "source": [
    "# Stochastic Gradient Descent"
   ]
  },
  {
   "cell_type": "code",
   "execution_count": 25,
   "metadata": {
    "colab": {
     "base_uri": "https://localhost:8080/",
     "height": 34
    },
    "colab_type": "code",
    "executionInfo": {
     "elapsed": 938,
     "status": "ok",
     "timestamp": 1586104067334,
     "user": {
      "displayName": "Tamjeed Anees",
      "photoUrl": "https://lh3.googleusercontent.com/a-/AOh14Gh95k3iDIGCAE5R6mGR6o2cTy-lXqLXC5tNjXhY3A=s64",
      "userId": "06579898575699157623"
     },
     "user_tz": -300
    },
    "id": "cR7RK3S8QO-z",
    "outputId": "8ab3b347-e662-41aa-9aaf-9ec278f00994"
   },
   "outputs": [
    {
     "name": "stdout",
     "output_type": "stream",
     "text": [
      "0.8108376011894928\n"
     ]
    }
   ],
   "source": [
    "clf = SGDClassifier(loss=\"hinge\", penalty=\"l2\", max_iter=500)\n",
    "x_train, x_test, y_train, y_test = train_test_split(x, y, test_size=0.2,random_state=30)\n",
    "clf.fit(x_train, y_train)\n",
    "pred=clf.predict(x_test)\n",
    "score = metrics.accuracy_score(y_test, pred)\n",
    "print(score)"
   ]
  },
  {
   "cell_type": "code",
   "execution_count": 26,
   "metadata": {
    "colab": {
     "base_uri": "https://localhost:8080/",
     "height": 34
    },
    "colab_type": "code",
    "executionInfo": {
     "elapsed": 981,
     "status": "ok",
     "timestamp": 1586104072311,
     "user": {
      "displayName": "Tamjeed Anees",
      "photoUrl": "https://lh3.googleusercontent.com/a-/AOh14Gh95k3iDIGCAE5R6mGR6o2cTy-lXqLXC5tNjXhY3A=s64",
      "userId": "06579898575699157623"
     },
     "user_tz": -300
    },
    "id": "IIKFpOXCQO-6",
    "outputId": "02067bba-6955-4438-a4c2-55c9e9357cb7"
   },
   "outputs": [
    {
     "data": {
      "text/plain": [
       "array([ True])"
      ]
     },
     "execution_count": 26,
     "metadata": {
      "tags": []
     },
     "output_type": "execute_result"
    }
   ],
   "source": [
    "predictions = clf.predict(myData)\n",
    "predictions"
   ]
  },
  {
   "cell_type": "markdown",
   "metadata": {
    "colab_type": "text",
    "id": "qlnUtAc4QO--"
   },
   "source": [
    "# Gradient Boosting"
   ]
  },
  {
   "cell_type": "code",
   "execution_count": 30,
   "metadata": {
    "colab": {
     "base_uri": "https://localhost:8080/",
     "height": 34
    },
    "colab_type": "code",
    "executionInfo": {
     "elapsed": 1471,
     "status": "ok",
     "timestamp": 1586104155639,
     "user": {
      "displayName": "Tamjeed Anees",
      "photoUrl": "https://lh3.googleusercontent.com/a-/AOh14Gh95k3iDIGCAE5R6mGR6o2cTy-lXqLXC5tNjXhY3A=s64",
      "userId": "06579898575699157623"
     },
     "user_tz": -300
    },
    "id": "4j9_CYhLQO-_",
    "outputId": "151a6e5e-9a61-47d6-b6a7-8e4d7a19bce3"
   },
   "outputs": [
    {
     "name": "stdout",
     "output_type": "stream",
     "text": [
      "0.8108376011894928\n"
     ]
    }
   ],
   "source": [
    "x_train, x_test, y_train, y_test = train_test_split(x, y, test_size=0.2,random_state=30)\n",
    "clf = GradientBoostingClassifier(n_estimators=100, learning_rate=1.0,max_depth=1, random_state=30)\n",
    "pred=clf.fit(x_train, y_train)\n",
    "pred=clf.predict(x_test)\n",
    "score = metrics.accuracy_score(y_test, pred)\n",
    "print(score)"
   ]
  },
  {
   "cell_type": "code",
   "execution_count": 31,
   "metadata": {
    "colab": {
     "base_uri": "https://localhost:8080/",
     "height": 34
    },
    "colab_type": "code",
    "executionInfo": {
     "elapsed": 1036,
     "status": "ok",
     "timestamp": 1586104160332,
     "user": {
      "displayName": "Tamjeed Anees",
      "photoUrl": "https://lh3.googleusercontent.com/a-/AOh14Gh95k3iDIGCAE5R6mGR6o2cTy-lXqLXC5tNjXhY3A=s64",
      "userId": "06579898575699157623"
     },
     "user_tz": -300
    },
    "id": "ONgJtj6QQO_E",
    "outputId": "d7aac8df-8e48-4e15-fd1e-80d826edc736"
   },
   "outputs": [
    {
     "data": {
      "text/plain": [
       "array([ True])"
      ]
     },
     "execution_count": 31,
     "metadata": {
      "tags": []
     },
     "output_type": "execute_result"
    }
   ],
   "source": [
    "predictions = clf.predict(myData)\n",
    "predictions"
   ]
  },
  {
   "cell_type": "markdown",
   "metadata": {
    "colab_type": "text",
    "id": "ctO7yc1JQO_J"
   },
   "source": [
    "# K Nearest Neighbors"
   ]
  },
  {
   "cell_type": "code",
   "execution_count": 32,
   "metadata": {
    "colab": {
     "base_uri": "https://localhost:8080/",
     "height": 272
    },
    "colab_type": "code",
    "executionInfo": {
     "elapsed": 9903,
     "status": "ok",
     "timestamp": 1586104267742,
     "user": {
      "displayName": "Tamjeed Anees",
      "photoUrl": "https://lh3.googleusercontent.com/a-/AOh14Gh95k3iDIGCAE5R6mGR6o2cTy-lXqLXC5tNjXhY3A=s64",
      "userId": "06579898575699157623"
     },
     "user_tz": -300
    },
    "id": "frlWBTmFQO_K",
    "outputId": "7e4170f7-3634-474c-f88f-98d45c61dff7"
   },
   "outputs": [
    {
     "name": "stdout",
     "output_type": "stream",
     "text": [
      "0.6862712704444077\n",
      "0.5902858086899059\n",
      "0.749215265157773\n",
      "0.6993226499256567\n",
      "0.7774657194779448\n",
      "0.7526846191970924\n",
      "0.7934908309928961\n",
      "0.7809350735172642\n",
      "0.8009251610771518\n",
      "0.7913431356352222\n",
      "0.8030728564348257\n",
      "0.8007599537419462\n",
      "0.8055509664629109\n",
      "0.8043945151164712\n",
      "0.8088551131670246\n"
     ]
    }
   ],
   "source": [
    "from sklearn.neighbors import KNeighborsClassifier\n",
    "#y_train=True/False\n",
    "score=[]\n",
    "for k in range(1,16):\n",
    "    \n",
    "    knn = KNeighborsClassifier(n_neighbors=k)\n",
    "    x_train, x_test, y_train, y_test = train_test_split(x, y, test_size=0.2, random_state=30)\n",
    "    knn.fit(x_train, y_train)\n",
    "    pred = knn.predict(x_test)\n",
    "    acc=metrics.accuracy_score(y_test, pred)\n",
    "    print(acc)\n",
    "    score.append(acc)"
   ]
  },
  {
   "cell_type": "code",
   "execution_count": 33,
   "metadata": {
    "colab": {
     "base_uri": "https://localhost:8080/",
     "height": 34
    },
    "colab_type": "code",
    "executionInfo": {
     "elapsed": 940,
     "status": "ok",
     "timestamp": 1586104286866,
     "user": {
      "displayName": "Tamjeed Anees",
      "photoUrl": "https://lh3.googleusercontent.com/a-/AOh14Gh95k3iDIGCAE5R6mGR6o2cTy-lXqLXC5tNjXhY3A=s64",
      "userId": "06579898575699157623"
     },
     "user_tz": -300
    },
    "id": "U5BONcl_QO_O",
    "outputId": "138763c4-6ab0-426e-fc72-13ad581af3cf"
   },
   "outputs": [
    {
     "data": {
      "text/plain": [
       "0.7629715292692331"
      ]
     },
     "execution_count": 33,
     "metadata": {
      "tags": []
     },
     "output_type": "execute_result"
    }
   ],
   "source": [
    "np.mean(score)"
   ]
  },
  {
   "cell_type": "code",
   "execution_count": 34,
   "metadata": {
    "colab": {
     "base_uri": "https://localhost:8080/",
     "height": 34
    },
    "colab_type": "code",
    "executionInfo": {
     "elapsed": 1299,
     "status": "ok",
     "timestamp": 1586104292221,
     "user": {
      "displayName": "Tamjeed Anees",
      "photoUrl": "https://lh3.googleusercontent.com/a-/AOh14Gh95k3iDIGCAE5R6mGR6o2cTy-lXqLXC5tNjXhY3A=s64",
      "userId": "06579898575699157623"
     },
     "user_tz": -300
    },
    "id": "fQzJiqPmQO_T",
    "outputId": "5b91482b-dc77-4a56-dd80-b8e22df59991"
   },
   "outputs": [
    {
     "data": {
      "text/plain": [
       "array([ True])"
      ]
     },
     "execution_count": 34,
     "metadata": {
      "tags": []
     },
     "output_type": "execute_result"
    }
   ],
   "source": [
    "predictions = knn.predict(myData)\n",
    "predictions"
   ]
  },
  {
   "cell_type": "markdown",
   "metadata": {
    "colab_type": "text",
    "id": "ZlvPa-5VQO_Y"
   },
   "source": [
    "# Random Forest"
   ]
  },
  {
   "cell_type": "code",
   "execution_count": 41,
   "metadata": {
    "colab": {
     "base_uri": "https://localhost:8080/",
     "height": 34
    },
    "colab_type": "code",
    "executionInfo": {
     "elapsed": 3112,
     "status": "ok",
     "timestamp": 1586104317819,
     "user": {
      "displayName": "Tamjeed Anees",
      "photoUrl": "https://lh3.googleusercontent.com/a-/AOh14Gh95k3iDIGCAE5R6mGR6o2cTy-lXqLXC5tNjXhY3A=s64",
      "userId": "06579898575699157623"
     },
     "user_tz": -300
    },
    "id": "z_UyPN5uQO_Y",
    "outputId": "20f2cf57-6ad3-423a-bafe-131520450e05"
   },
   "outputs": [
    {
     "name": "stdout",
     "output_type": "stream",
     "text": [
      "0.7708574260697175\n"
     ]
    }
   ],
   "source": [
    "rf = RandomForestClassifier()\n",
    "x_train, x_test, y_train, y_test = train_test_split(x, y, test_size=0.2, random_state=30)\n",
    "rf.fit(x_train,y_train)\n",
    "pred = rf.predict(x_test)\n",
    "acc=metrics.accuracy_score(y_test, pred)\n",
    "print(acc)"
   ]
  },
  {
   "cell_type": "code",
   "execution_count": 36,
   "metadata": {
    "colab": {
     "base_uri": "https://localhost:8080/",
     "height": 34
    },
    "colab_type": "code",
    "executionInfo": {
     "elapsed": 988,
     "status": "ok",
     "timestamp": 1586104328050,
     "user": {
      "displayName": "Tamjeed Anees",
      "photoUrl": "https://lh3.googleusercontent.com/a-/AOh14Gh95k3iDIGCAE5R6mGR6o2cTy-lXqLXC5tNjXhY3A=s64",
      "userId": "06579898575699157623"
     },
     "user_tz": -300
    },
    "id": "fanYnI01QO_n",
    "outputId": "61fb46a6-ccc4-4a55-a2d0-cf21f654febd"
   },
   "outputs": [
    {
     "data": {
      "text/plain": [
       "array([ True])"
      ]
     },
     "execution_count": 36,
     "metadata": {
      "tags": []
     },
     "output_type": "execute_result"
    }
   ],
   "source": [
    "predictions = rf.predict(myData)\n",
    "predictions"
   ]
  },
  {
   "cell_type": "code",
   "execution_count": 43,
   "metadata": {},
   "outputs": [
    {
     "data": {
      "text/plain": [
       "array([[  72, 1073],\n",
       "       [ 314, 4594]])"
      ]
     },
     "execution_count": 43,
     "metadata": {},
     "output_type": "execute_result"
    }
   ],
   "source": [
    "from sklearn import metrics\n",
    "cnf_matrix = metrics.confusion_matrix(y_test, pred)\n",
    "cnf_matrix"
   ]
  },
  {
   "cell_type": "code",
   "execution_count": 44,
   "metadata": {},
   "outputs": [
    {
     "data": {
      "text/plain": [
       "Text(0.5, 257.44, 'Predicted label')"
      ]
     },
     "execution_count": 44,
     "metadata": {},
     "output_type": "execute_result"
    },
    {
     "data": {
      "image/png": "[encoded data removed]",
      "text/plain": [
       "<Figure size 432x288 with 2 Axes>"
      ]
     },
     "metadata": {
      "needs_background": "light"
     },
     "output_type": "display_data"
    }
   ],
   "source": [
    "class_names=[0,1] # name  of classes\n",
    "fig, ax = plt.subplots()\n",
    "tick_marks = np.arange(len(class_names))\n",
    "plt.xticks(tick_marks, class_names)\n",
    "plt.yticks(tick_marks, class_names)\n",
    "# create heatmap\n",
    "sns.heatmap(pd.DataFrame(cnf_matrix), annot=True, cmap=\"YlGnBu\" ,fmt='g')\n",
    "ax.xaxis.set_label_position(\"top\")\n",
    "plt.tight_layout()\n",
    "plt.title('Confusion matrix', y=1.1)\n",
    "plt.ylabel('Actual label')\n",
    "plt.xlabel('Predicted label')"
   ]
  },
  {
   "cell_type": "code",
   "execution_count": null,
   "metadata": {},
   "outputs": [],
   "source": [
    "roc_value = roc_auc_score(test_labels, rf_probs)"
   ]
  }
 ],
 "metadata": {
  "colab": {
   "collapsed_sections": [
    "n5Tvc0g8QO-g",
    "aX3HD6CVQO-p",
    "DHxc6Pa0QO-z",
    "qlnUtAc4QO--",
    "ctO7yc1JQO_J"
   ],
   "name": "classifier.ipynb",
   "provenance": []
  },
  "kernelspec": {
   "display_name": "Python 3",
   "language": "python",
   "name": "python3"
  },
  "language_info": {
   "codemirror_mode": {
    "name": "ipython",
    "version": 3
   },
   "file_extension": ".py",
   "mimetype": "text/x-python",
   "name": "python",
   "nbconvert_exporter": "python",
   "pygments_lexer": "ipython3",
   "version": "3.7.6"
  }
 },
 "nbformat": 4,
 "nbformat_minor": 1
}
